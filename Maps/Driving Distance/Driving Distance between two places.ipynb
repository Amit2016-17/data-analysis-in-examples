{
 "cells": [
  {
   "cell_type": "markdown",
   "metadata": {},
   "source": [
    "# Distance, driving distance and duration between two places\n",
    "Various implementation in python for the Earth surface distnace, travelling distance on roads and duration of such a journey. \n",
    "\n",
    "We will get help from the public dataset containing locations of all the world capitals from Kaggle - https://www.kaggle.com/nikitagrec/world-capitals-gps (public)."
   ]
  },
  {
   "cell_type": "code",
   "execution_count": 2,
   "metadata": {
    "ExecuteTime": {
     "end_time": "2020-11-26T21:28:10.482062Z",
     "start_time": "2020-11-26T21:28:09.479896Z"
    }
   },
   "outputs": [],
   "source": [
    "import pandas as pd\n",
    "from geopy import distance"
   ]
  },
  {
   "cell_type": "code",
   "execution_count": 3,
   "metadata": {
    "ExecuteTime": {
     "end_time": "2020-11-26T21:28:10.513811Z",
     "start_time": "2020-11-26T21:28:10.483872Z"
    }
   },
   "outputs": [
    {
     "data": {
      "text/html": [
       "<div>\n",
       "<style scoped>\n",
       "    .dataframe tbody tr th:only-of-type {\n",
       "        vertical-align: middle;\n",
       "    }\n",
       "\n",
       "    .dataframe tbody tr th {\n",
       "        vertical-align: top;\n",
       "    }\n",
       "\n",
       "    .dataframe thead th {\n",
       "        text-align: right;\n",
       "    }\n",
       "</style>\n",
       "<table border=\"1\" class=\"dataframe\">\n",
       "  <thead>\n",
       "    <tr style=\"text-align: right;\">\n",
       "      <th></th>\n",
       "      <th>Country</th>\n",
       "      <th>capital</th>\n",
       "      <th>lat</th>\n",
       "      <th>lon</th>\n",
       "      <th>code</th>\n",
       "      <th>continent</th>\n",
       "    </tr>\n",
       "  </thead>\n",
       "  <tbody>\n",
       "    <tr>\n",
       "      <td>0</td>\n",
       "      <td>Somaliland</td>\n",
       "      <td>Hargeisa</td>\n",
       "      <td>9.550000</td>\n",
       "      <td>44.050000</td>\n",
       "      <td>NaN</td>\n",
       "      <td>Africa</td>\n",
       "    </tr>\n",
       "    <tr>\n",
       "      <td>1</td>\n",
       "      <td>South Georgia and South Sandwich Islands</td>\n",
       "      <td>King Edward Point</td>\n",
       "      <td>-54.283333</td>\n",
       "      <td>-36.500000</td>\n",
       "      <td>GS</td>\n",
       "      <td>Antarctica</td>\n",
       "    </tr>\n",
       "    <tr>\n",
       "      <td>2</td>\n",
       "      <td>French Southern and Antarctic Lands</td>\n",
       "      <td>Port-aux-Français</td>\n",
       "      <td>-49.350000</td>\n",
       "      <td>70.216667</td>\n",
       "      <td>TF</td>\n",
       "      <td>Antarctica</td>\n",
       "    </tr>\n",
       "  </tbody>\n",
       "</table>\n",
       "</div>"
      ],
      "text/plain": [
       "                                    Country            capital        lat  \\\n",
       "0                                Somaliland           Hargeisa   9.550000   \n",
       "1  South Georgia and South Sandwich Islands  King Edward Point -54.283333   \n",
       "2       French Southern and Antarctic Lands  Port-aux-Français -49.350000   \n",
       "\n",
       "         lon code   continent  \n",
       "0  44.050000  NaN      Africa  \n",
       "1 -36.500000   GS  Antarctica  \n",
       "2  70.216667   TF  Antarctica  "
      ]
     },
     "execution_count": 3,
     "metadata": {},
     "output_type": "execute_result"
    }
   ],
   "source": [
    "# load the dataframe with capitals\n",
    "df = pd.read_csv(\"concap.csv\")\n",
    "\n",
    "# rename so that the column names are shorter and comply with PEP-8\n",
    "df.rename(columns={\"CountryName\": \"Country\", \"CapitalName\": \"capital\", \"CapitalLatitude\": \"lat\", \"CapitalLongitude\": \"lon\", \"CountryCode\": \"code\", \"ContinentName\": \"continent\"}, inplace=True)\n",
    "df.head(3)"
   ]
  },
  {
   "cell_type": "markdown",
   "metadata": {
    "ExecuteTime": {
     "end_time": "2020-11-26T20:06:12.936969Z",
     "start_time": "2020-11-26T20:06:12.927988Z"
    }
   },
   "source": [
    "Naming convetion of the variabled is described in PEP-8: https://www.python.org/dev/peps/pep-0008/#function-and-variable-names\n",
    "\n",
    "There's discusion if it should be applied to the pandas columns as well, but I would suggest to do it - https://stackoverflow.com/questions/58584570/pep8-guidance-for-column-names-in-pandas-dataframe"
   ]
  },
  {
   "cell_type": "code",
   "execution_count": 47,
   "metadata": {
    "ExecuteTime": {
     "end_time": "2020-11-26T21:47:19.526487Z",
     "start_time": "2020-11-26T21:47:19.513553Z"
    }
   },
   "outputs": [
    {
     "data": {
      "text/html": [
       "<div>\n",
       "<style scoped>\n",
       "    .dataframe tbody tr th:only-of-type {\n",
       "        vertical-align: middle;\n",
       "    }\n",
       "\n",
       "    .dataframe tbody tr th {\n",
       "        vertical-align: top;\n",
       "    }\n",
       "\n",
       "    .dataframe thead th {\n",
       "        text-align: right;\n",
       "    }\n",
       "</style>\n",
       "<table border=\"1\" class=\"dataframe\">\n",
       "  <thead>\n",
       "    <tr style=\"text-align: right;\">\n",
       "      <th></th>\n",
       "      <th>index</th>\n",
       "      <th>Country</th>\n",
       "      <th>capital</th>\n",
       "      <th>lat</th>\n",
       "      <th>lon</th>\n",
       "      <th>code</th>\n",
       "      <th>continent</th>\n",
       "    </tr>\n",
       "  </thead>\n",
       "  <tbody>\n",
       "    <tr>\n",
       "      <td>0</td>\n",
       "      <td>81</td>\n",
       "      <td>France</td>\n",
       "      <td>Paris</td>\n",
       "      <td>48.866667</td>\n",
       "      <td>2.333333</td>\n",
       "      <td>FR</td>\n",
       "      <td>Europe</td>\n",
       "    </tr>\n",
       "    <tr>\n",
       "      <td>1</td>\n",
       "      <td>110</td>\n",
       "      <td>Italy</td>\n",
       "      <td>Rome</td>\n",
       "      <td>41.900000</td>\n",
       "      <td>12.483333</td>\n",
       "      <td>IT</td>\n",
       "      <td>Europe</td>\n",
       "    </tr>\n",
       "  </tbody>\n",
       "</table>\n",
       "</div>"
      ],
      "text/plain": [
       "   index Country capital        lat        lon code continent\n",
       "0     81  France   Paris  48.866667   2.333333   FR    Europe\n",
       "1    110   Italy    Rome  41.900000  12.483333   IT    Europe"
      ]
     },
     "execution_count": 47,
     "metadata": {},
     "output_type": "execute_result"
    }
   ],
   "source": [
    "# to start with let's filter only 2 capitals. Rome and Paris.\n",
    "cities = df[df[\"capital\"].isin([\"Rome\",\"Paris\"])].reset_index()\n",
    "cities"
   ]
  },
  {
   "cell_type": "markdown",
   "metadata": {
    "ExecuteTime": {
     "end_time": "2020-11-26T20:06:58.669000Z",
     "start_time": "2020-11-26T20:06:58.661571Z"
    }
   },
   "source": [
    "## Calculating the distnace\n",
    "The first obvious method is to use the shortest distnace on the surface of Earth. You can use various approximations:\n",
    "\n",
    "* Great-circle distnace on the surface of sphere - https://en.wikipedia.org/wiki/Great-circle_distance\n",
    "* Distances from geodesics since Earth is approximated as oblate ellipsoid https://en.wikipedia.org/wiki/Geodesics_on_an_ellipsoid\n",
    "* Haversine formula - https://en.wikipedia.org/wiki/Haversine_formula, https://towardsdatascience.com/calculating-distance-between-two-geolocations-in-python-26ad3afe287b\n",
    "\n",
    "You don't have to invent or even reproduce this math. The geopy.distance module already implemented all of these distnance calculation, it returns the values in kilometers (km), miles (mi), nautical miles (nm) or feet (ft).\n",
    "* `distance((latitude_point_1, longitude_point_1), (lat_2, lon_2))` - using geodesic on `WGS-84` ellipsoid\n",
    "* `geodesic((latitude_point_1, longitude_point_1), (lat_2, lon_2))`\n",
    "* `great_circle((latitude_point_1, longitude_point_1), (lat_2, lon_2))`\n",
    "\n",
    "More info about geopy.distance https://geopy.readthedocs.io/en/stable/#module-geopy.distance"
   ]
  },
  {
   "cell_type": "code",
   "execution_count": 48,
   "metadata": {
    "ExecuteTime": {
     "end_time": "2020-11-26T21:47:21.240412Z",
     "start_time": "2020-11-26T21:47:21.235426Z"
    }
   },
   "outputs": [
    {
     "data": {
      "text/plain": [
       "(Distance(1107.8818760940028), 1107.8818760940028, 688.4058822066647)"
      ]
     },
     "execution_count": 48,
     "metadata": {},
     "output_type": "execute_result"
    }
   ],
   "source": [
    "d = distance.distance((cities.loc[0, \"lat\"], cities.loc[0, \"lon\"]), (cities.loc[1, \"lat\"], cities.loc[1, \"lon\"]))\n",
    "d, d.km, d.miles"
   ]
  },
  {
   "cell_type": "code",
   "execution_count": 49,
   "metadata": {
    "ExecuteTime": {
     "end_time": "2020-11-26T21:47:21.831007Z",
     "start_time": "2020-11-26T21:47:21.813073Z"
    }
   },
   "outputs": [
    {
     "data": {
      "text/plain": [
       "1107.8818760940028"
      ]
     },
     "execution_count": 49,
     "metadata": {},
     "output_type": "execute_result"
    }
   ],
   "source": [
    "getattr(d, \"km\")"
   ]
  },
  {
   "cell_type": "code",
   "execution_count": 50,
   "metadata": {
    "ExecuteTime": {
     "end_time": "2020-11-26T21:47:22.486467Z",
     "start_time": "2020-11-26T21:47:22.445577Z"
    }
   },
   "outputs": [
    {
     "data": {
      "text/html": [
       "<div>\n",
       "<style scoped>\n",
       "    .dataframe tbody tr th:only-of-type {\n",
       "        vertical-align: middle;\n",
       "    }\n",
       "\n",
       "    .dataframe tbody tr th {\n",
       "        vertical-align: top;\n",
       "    }\n",
       "\n",
       "    .dataframe thead th {\n",
       "        text-align: right;\n",
       "    }\n",
       "</style>\n",
       "<table border=\"1\" class=\"dataframe\">\n",
       "  <thead>\n",
       "    <tr style=\"text-align: right;\">\n",
       "      <th>measurement</th>\n",
       "      <th>feet</th>\n",
       "      <th>ft</th>\n",
       "      <th>kilometers</th>\n",
       "      <th>km</th>\n",
       "      <th>mi</th>\n",
       "      <th>miles</th>\n",
       "      <th>nautical</th>\n",
       "      <th>nm</th>\n",
       "    </tr>\n",
       "    <tr>\n",
       "      <th>method</th>\n",
       "      <th></th>\n",
       "      <th></th>\n",
       "      <th></th>\n",
       "      <th></th>\n",
       "      <th></th>\n",
       "      <th></th>\n",
       "      <th></th>\n",
       "      <th></th>\n",
       "    </tr>\n",
       "  </thead>\n",
       "  <tbody>\n",
       "    <tr>\n",
       "      <td>geodesic</td>\n",
       "      <td>3.634783e+06</td>\n",
       "      <td>3.634783e+06</td>\n",
       "      <td>1107.881876</td>\n",
       "      <td>1107.881876</td>\n",
       "      <td>688.405882</td>\n",
       "      <td>688.405882</td>\n",
       "      <td>598.208356</td>\n",
       "      <td>598.208356</td>\n",
       "    </tr>\n",
       "    <tr>\n",
       "      <td>great_circle</td>\n",
       "      <td>3.630457e+06</td>\n",
       "      <td>3.630457e+06</td>\n",
       "      <td>1106.563205</td>\n",
       "      <td>1106.563205</td>\n",
       "      <td>687.586498</td>\n",
       "      <td>687.586498</td>\n",
       "      <td>597.496331</td>\n",
       "      <td>597.496331</td>\n",
       "    </tr>\n",
       "  </tbody>\n",
       "</table>\n",
       "</div>"
      ],
      "text/plain": [
       "measurement           feet            ft   kilometers           km  \\\n",
       "method                                                               \n",
       "geodesic      3.634783e+06  3.634783e+06  1107.881876  1107.881876   \n",
       "great_circle  3.630457e+06  3.630457e+06  1106.563205  1106.563205   \n",
       "\n",
       "measurement           mi       miles    nautical          nm  \n",
       "method                                                        \n",
       "geodesic      688.405882  688.405882  598.208356  598.208356  \n",
       "great_circle  687.586498  687.586498  597.496331  597.496331  "
      ]
     },
     "execution_count": 50,
     "metadata": {},
     "output_type": "execute_result"
    }
   ],
   "source": [
    "results = []\n",
    "for f in [distance.distance, distance.great_circle, distance.geodesic]:\n",
    "    for mes in [\"kilometers\",\"km\",\"miles\",\"mi\",\"nautical\",\"nm\",\"feet\",\"ft\"]:\n",
    "        d = f((cities.loc[0, \"lat\"], cities.loc[0, \"lon\"]), (cities.loc[1, \"lat\"], cities.loc[1, \"lon\"]))\n",
    "        results.append({\"method\": f.__name__, \"measurement\": mes, \"value\": getattr(d, mes)})\n",
    "\n",
    "# show as dataframe\n",
    "results_df = pd.DataFrame(results)\n",
    "results_df.pivot_table(index=\"method\", columns=\"measurement\", values=\"value\")"
   ]
  },
  {
   "cell_type": "markdown",
   "metadata": {
    "ExecuteTime": {
     "end_time": "2020-11-26T21:40:38.912805Z",
     "start_time": "2020-11-26T21:40:38.898827Z"
    }
   },
   "source": [
    "`distance.distance` nativelly calls `distance.geodesic` that's why these two calues collapse into one row in the results. "
   ]
  },
  {
   "cell_type": "code",
   "execution_count": 51,
   "metadata": {
    "ExecuteTime": {
     "end_time": "2020-11-26T21:47:30.610686Z",
     "start_time": "2020-11-26T21:47:30.562814Z"
    }
   },
   "outputs": [
    {
     "data": {
      "text/html": [
       "<div>\n",
       "<style scoped>\n",
       "    .dataframe tbody tr th:only-of-type {\n",
       "        vertical-align: middle;\n",
       "    }\n",
       "\n",
       "    .dataframe tbody tr th {\n",
       "        vertical-align: top;\n",
       "    }\n",
       "\n",
       "    .dataframe thead th {\n",
       "        text-align: right;\n",
       "    }\n",
       "</style>\n",
       "<table border=\"1\" class=\"dataframe\">\n",
       "  <thead>\n",
       "    <tr style=\"text-align: right;\">\n",
       "      <th>measurement</th>\n",
       "      <th>feet</th>\n",
       "      <th>ft</th>\n",
       "      <th>kilometers</th>\n",
       "      <th>km</th>\n",
       "      <th>mi</th>\n",
       "      <th>miles</th>\n",
       "      <th>nautical</th>\n",
       "      <th>nm</th>\n",
       "    </tr>\n",
       "    <tr>\n",
       "      <th>method</th>\n",
       "      <th></th>\n",
       "      <th></th>\n",
       "      <th></th>\n",
       "      <th></th>\n",
       "      <th></th>\n",
       "      <th></th>\n",
       "      <th></th>\n",
       "      <th></th>\n",
       "    </tr>\n",
       "  </thead>\n",
       "  <tbody>\n",
       "    <tr>\n",
       "      <td>geodesic</td>\n",
       "      <td>3.634783e+06</td>\n",
       "      <td>3.634783e+06</td>\n",
       "      <td>1107.881876</td>\n",
       "      <td>1107.881876</td>\n",
       "      <td>688.405882</td>\n",
       "      <td>688.405882</td>\n",
       "      <td>598.208356</td>\n",
       "      <td>598.208356</td>\n",
       "    </tr>\n",
       "    <tr>\n",
       "      <td>geodesic: Airy (1830)</td>\n",
       "      <td>3.634455e+06</td>\n",
       "      <td>3.634455e+06</td>\n",
       "      <td>1107.781964</td>\n",
       "      <td>1107.781964</td>\n",
       "      <td>688.343800</td>\n",
       "      <td>688.343800</td>\n",
       "      <td>598.154408</td>\n",
       "      <td>598.154408</td>\n",
       "    </tr>\n",
       "    <tr>\n",
       "      <td>geodesic: Clarke (1880)</td>\n",
       "      <td>3.634851e+06</td>\n",
       "      <td>3.634851e+06</td>\n",
       "      <td>1107.902624</td>\n",
       "      <td>1107.902624</td>\n",
       "      <td>688.418774</td>\n",
       "      <td>688.418774</td>\n",
       "      <td>598.219559</td>\n",
       "      <td>598.219559</td>\n",
       "    </tr>\n",
       "    <tr>\n",
       "      <td>geodesic: GRS-67</td>\n",
       "      <td>3.634796e+06</td>\n",
       "      <td>3.634796e+06</td>\n",
       "      <td>1107.885873</td>\n",
       "      <td>1107.885873</td>\n",
       "      <td>688.408366</td>\n",
       "      <td>688.408366</td>\n",
       "      <td>598.210515</td>\n",
       "      <td>598.210515</td>\n",
       "    </tr>\n",
       "    <tr>\n",
       "      <td>geodesic: GRS-80</td>\n",
       "      <td>3.634783e+06</td>\n",
       "      <td>3.634783e+06</td>\n",
       "      <td>1107.881876</td>\n",
       "      <td>1107.881876</td>\n",
       "      <td>688.405882</td>\n",
       "      <td>688.405882</td>\n",
       "      <td>598.208356</td>\n",
       "      <td>598.208356</td>\n",
       "    </tr>\n",
       "    <tr>\n",
       "      <td>geodesic: Intl 1924</td>\n",
       "      <td>3.634927e+06</td>\n",
       "      <td>3.634927e+06</td>\n",
       "      <td>1107.925804</td>\n",
       "      <td>1107.925804</td>\n",
       "      <td>688.433178</td>\n",
       "      <td>688.433178</td>\n",
       "      <td>598.232075</td>\n",
       "      <td>598.232075</td>\n",
       "    </tr>\n",
       "    <tr>\n",
       "      <td>geodesic: WGS-84</td>\n",
       "      <td>3.634783e+06</td>\n",
       "      <td>3.634783e+06</td>\n",
       "      <td>1107.881876</td>\n",
       "      <td>1107.881876</td>\n",
       "      <td>688.405882</td>\n",
       "      <td>688.405882</td>\n",
       "      <td>598.208356</td>\n",
       "      <td>598.208356</td>\n",
       "    </tr>\n",
       "    <tr>\n",
       "      <td>great_circle</td>\n",
       "      <td>3.630457e+06</td>\n",
       "      <td>3.630457e+06</td>\n",
       "      <td>1106.563205</td>\n",
       "      <td>1106.563205</td>\n",
       "      <td>687.586498</td>\n",
       "      <td>687.586498</td>\n",
       "      <td>597.496331</td>\n",
       "      <td>597.496331</td>\n",
       "    </tr>\n",
       "  </tbody>\n",
       "</table>\n",
       "</div>"
      ],
      "text/plain": [
       "measurement                      feet            ft   kilometers           km  \\\n",
       "method                                                                          \n",
       "geodesic                 3.634783e+06  3.634783e+06  1107.881876  1107.881876   \n",
       "geodesic: Airy (1830)    3.634455e+06  3.634455e+06  1107.781964  1107.781964   \n",
       "geodesic: Clarke (1880)  3.634851e+06  3.634851e+06  1107.902624  1107.902624   \n",
       "geodesic: GRS-67         3.634796e+06  3.634796e+06  1107.885873  1107.885873   \n",
       "geodesic: GRS-80         3.634783e+06  3.634783e+06  1107.881876  1107.881876   \n",
       "geodesic: Intl 1924      3.634927e+06  3.634927e+06  1107.925804  1107.925804   \n",
       "geodesic: WGS-84         3.634783e+06  3.634783e+06  1107.881876  1107.881876   \n",
       "great_circle             3.630457e+06  3.630457e+06  1106.563205  1106.563205   \n",
       "\n",
       "measurement                      mi       miles    nautical          nm  \n",
       "method                                                                   \n",
       "geodesic                 688.405882  688.405882  598.208356  598.208356  \n",
       "geodesic: Airy (1830)    688.343800  688.343800  598.154408  598.154408  \n",
       "geodesic: Clarke (1880)  688.418774  688.418774  598.219559  598.219559  \n",
       "geodesic: GRS-67         688.408366  688.408366  598.210515  598.210515  \n",
       "geodesic: GRS-80         688.405882  688.405882  598.208356  598.208356  \n",
       "geodesic: Intl 1924      688.433178  688.433178  598.232075  598.232075  \n",
       "geodesic: WGS-84         688.405882  688.405882  598.208356  598.208356  \n",
       "great_circle             687.586498  687.586498  597.496331  597.496331  "
      ]
     },
     "execution_count": 51,
     "metadata": {},
     "output_type": "execute_result"
    }
   ],
   "source": [
    "# the distnace for various ellipsiods\n",
    "for ellipsoid in distance.ELLIPSOIDS:\n",
    "    for mes in [\"kilometers\",\"km\",\"miles\",\"mi\",\"nautical\",\"nm\",\"feet\",\"ft\"]:\n",
    "        d = distance.geodesic((cities.loc[0, \"lat\"], cities.loc[0, \"lon\"]), (cities.loc[1, \"lat\"], cities.loc[1, \"lon\"]), ellipsoid=ellipsoid)\n",
    "        results.append({\"method\": f\"geodesic: {ellipsoid}\", \"measurement\": mes, \"value\": getattr(d, mes)})\n",
    "\n",
    "# show as dataframe\n",
    "results_df = pd.DataFrame(results)\n",
    "results_df.pivot_table(index=\"method\", columns=\"measurement\", values=\"value\")"
   ]
  },
  {
   "cell_type": "markdown",
   "metadata": {},
   "source": [
    "# Driving distance\n",
    "The cities can be quite close on the surface, though natural obstacles like sea or mountain can cause that the driving distance is much longer. "
   ]
  },
  {
   "cell_type": "code",
   "execution_count": 54,
   "metadata": {
    "ExecuteTime": {
     "end_time": "2020-11-26T21:47:45.943112Z",
     "start_time": "2020-11-26T21:47:45.935133Z"
    }
   },
   "outputs": [
    {
     "data": {
      "text/plain": [
       "397.7633096859937"
      ]
     },
     "execution_count": 54,
     "metadata": {},
     "output_type": "execute_result"
    }
   ],
   "source": [
    "cities = df[df[\"capital\"].isin([\"Helsinki\",\"Stockholm\"])].reset_index()\n",
    "d = distance.distance((cities.loc[0, \"lat\"], cities.loc[0, \"lon\"]), (cities.loc[1, \"lat\"], cities.loc[1, \"lon\"]))\n",
    "d.km"
   ]
  },
  {
   "cell_type": "markdown",
   "metadata": {
    "ExecuteTime": {
     "end_time": "2020-11-26T21:50:06.840631Z",
     "start_time": "2020-11-26T21:50:06.822678Z"
    }
   },
   "source": [
    "Even though the distance between Helsinky, the capita of Finland and Stockholm in Sweden less than 400km, if you decide to drive it's more than 1750km and 20 hours. Even if you take ferries you will drive almost 500km. Paris is located only 1107km from Rome, but roads connecting these cities have at least 1420km. \n",
    "\n",
    "\n",
    "That's why for many application you want to know the real travel distnace, which no mathematical function can return. You need to call some map service API - e.g. google routes or osrm route service (http://project-osrm.org/docs/v5.5.1/api/#route-service) "
   ]
  }
 ],
 "metadata": {
  "kernelspec": {
   "display_name": "Python 3",
   "language": "python",
   "name": "python3"
  },
  "language_info": {
   "codemirror_mode": {
    "name": "ipython",
    "version": 3
   },
   "file_extension": ".py",
   "mimetype": "text/x-python",
   "name": "python",
   "nbconvert_exporter": "python",
   "pygments_lexer": "ipython3",
   "version": "3.7.4"
  },
  "toc": {
   "base_numbering": 1,
   "nav_menu": {},
   "number_sections": true,
   "sideBar": true,
   "skip_h1_title": false,
   "title_cell": "Table of Contents",
   "title_sidebar": "Contents",
   "toc_cell": false,
   "toc_position": {},
   "toc_section_display": true,
   "toc_window_display": false
  },
  "varInspector": {
   "cols": {
    "lenName": 16,
    "lenType": 16,
    "lenVar": 40
   },
   "kernels_config": {
    "python": {
     "delete_cmd_postfix": "",
     "delete_cmd_prefix": "del ",
     "library": "var_list.py",
     "varRefreshCmd": "print(var_dic_list())"
    },
    "r": {
     "delete_cmd_postfix": ") ",
     "delete_cmd_prefix": "rm(",
     "library": "var_list.r",
     "varRefreshCmd": "cat(var_dic_list()) "
    }
   },
   "types_to_exclude": [
    "module",
    "function",
    "builtin_function_or_method",
    "instance",
    "_Feature"
   ],
   "window_display": false
  }
 },
 "nbformat": 4,
 "nbformat_minor": 2
}
