{
 "cells": [
  {
   "cell_type": "markdown",
   "metadata": {},
   "source": [
    "# Distance, driving distance and duration between two places\n",
    "Various implementation in python for the Earth surface distnace, travelling distance on roads and duration of such a journey. \n",
    "\n",
    "We will get help from the public dataset containing locations of all the world capitals from Kaggle - https://www.kaggle.com/nikitagrec/world-capitals-gps (public)."
   ]
  },
  {
   "cell_type": "code",
   "execution_count": 1,
   "metadata": {
    "ExecuteTime": {
     "end_time": "2020-11-28T22:05:07.453436Z",
     "start_time": "2020-11-28T22:05:06.018903Z"
    }
   },
   "outputs": [],
   "source": [
    "import pandas as pd\n",
    "from geopy import distance\n",
    "import requests # to call the openmap/google apis\n",
    "import json\n",
    "import datetime\n",
    "import math\n",
    "import itertools\n",
    "\n",
    "# you may run into this problem https://stackoverflow.com/questions/61867945/python-import-error-cannot-import-name-six-from-sklearn-externals\n",
    "# I have manually updated site-packages/mlrose/neural.py chaning \n",
    "# original:\n",
    "# from sklearn.external import six\n",
    "# to:\n",
    "# import six\n",
    "from mlrose import TravellingSales, TSPOpt, genetic_alg # for travelling salesman problem\n",
    "\n",
    "# that was fixed in mlrose_hiive, though the outputs are different\n",
    "# import mlrose_hiive\n",
    "import numpy as np"
   ]
  },
  {
   "cell_type": "code",
   "execution_count": null,
   "metadata": {
    "ExecuteTime": {
     "end_time": "2020-11-28T22:05:07.485286Z",
     "start_time": "2020-11-28T22:05:07.454379Z"
    }
   },
   "outputs": [],
   "source": [
    "# load the dataframe with capitals\n",
    "df = pd.read_csv(\"concap.csv\")\n",
    "\n",
    "# rename so that the column names are shorter and comply with PEP-8\n",
    "df.rename(columns={\"CountryName\": \"Country\", \"CapitalName\": \"capital\", \"CapitalLatitude\": \"lat\", \"CapitalLongitude\": \"lon\", \"CountryCode\": \"code\", \"ContinentName\": \"continent\"}, inplace=True)\n",
    "df.head(3)"
   ]
  },
  {
   "cell_type": "markdown",
   "metadata": {
    "ExecuteTime": {
     "end_time": "2020-11-26T20:06:12.936969Z",
     "start_time": "2020-11-26T20:06:12.927988Z"
    }
   },
   "source": [
    "Naming convetion of the variabled is described in PEP-8: https://www.python.org/dev/peps/pep-0008/#function-and-variable-names\n",
    "\n",
    "There's discusion if it should be applied to the pandas columns as well, but I would suggest to do it - https://stackoverflow.com/questions/58584570/pep8-guidance-for-column-names-in-pandas-dataframe"
   ]
  },
  {
   "cell_type": "code",
   "execution_count": null,
   "metadata": {
    "ExecuteTime": {
     "end_time": "2020-11-28T22:05:07.501279Z",
     "start_time": "2020-11-28T22:05:07.488341Z"
    }
   },
   "outputs": [],
   "source": [
    "# to start with let's filter only 2 capitals. Rome and Paris.\n",
    "ropa = df[df[\"capital\"].isin([\"Rome\",\"Paris\"])].reset_index()\n",
    "cities = ropa.copy()\n",
    "cities"
   ]
  },
  {
   "cell_type": "markdown",
   "metadata": {
    "ExecuteTime": {
     "end_time": "2020-11-26T20:06:58.669000Z",
     "start_time": "2020-11-26T20:06:58.661571Z"
    }
   },
   "source": [
    "## Calculating the distnace\n",
    "The first obvious method is to use the shortest distnace on the surface of Earth. You can use various approximations:\n",
    "\n",
    "* Great-circle distnace on the surface of sphere - https://en.wikipedia.org/wiki/Great-circle_distance\n",
    "* Distances from geodesics since Earth is approximated as oblate ellipsoid https://en.wikipedia.org/wiki/Geodesics_on_an_ellipsoid\n",
    "* Haversine formula - https://en.wikipedia.org/wiki/Haversine_formula, https://towardsdatascience.com/calculating-distance-between-two-geolocations-in-python-26ad3afe287b\n",
    "\n",
    "You don't have to invent or even reproduce this math. The geopy.distance module already implemented all of these distnance calculation, it returns the values in kilometers (km), miles (mi), nautical miles (nm) or feet (ft).  All these methods are part of `distance` class we have already imported from geopy.\n",
    "* `distance((latitude_point_1, longitude_point_1), (lat_2, lon_2))` - using geodesic on `WGS-84` ellipsoid\n",
    "* `geodesic((latitude_point_1, longitude_point_1), (lat_2, lon_2))`\n",
    "* `great_circle((latitude_point_1, longitude_point_1), (lat_2, lon_2))`\n",
    "\n",
    "More info about geopy.distance https://geopy.readthedocs.io/en/stable/#module-geopy.distance"
   ]
  },
  {
   "cell_type": "code",
   "execution_count": null,
   "metadata": {
    "ExecuteTime": {
     "end_time": "2020-11-28T22:05:07.516777Z",
     "start_time": "2020-11-28T22:05:07.503271Z"
    }
   },
   "outputs": [],
   "source": [
    "d = distance.distance((cities.loc[0, \"lat\"], cities.loc[0, \"lon\"]), (cities.loc[1, \"lat\"], cities.loc[1, \"lon\"]))\n",
    "d, d.km, d.miles"
   ]
  },
  {
   "cell_type": "code",
   "execution_count": null,
   "metadata": {
    "ExecuteTime": {
     "end_time": "2020-11-28T22:05:07.532846Z",
     "start_time": "2020-11-28T22:05:07.517777Z"
    }
   },
   "outputs": [],
   "source": [
    "getattr(d, \"km\")"
   ]
  },
  {
   "cell_type": "code",
   "execution_count": null,
   "metadata": {
    "ExecuteTime": {
     "end_time": "2020-11-28T22:05:07.612199Z",
     "start_time": "2020-11-28T22:05:07.534842Z"
    }
   },
   "outputs": [],
   "source": [
    "results = []\n",
    "for f in [distance.distance, distance.great_circle, distance.geodesic]:\n",
    "    for mes in [\"kilometers\",\"km\",\"miles\",\"mi\",\"nautical\",\"nm\",\"feet\",\"ft\"]:\n",
    "        d = f((cities.loc[0, \"lat\"], cities.loc[0, \"lon\"]), (cities.loc[1, \"lat\"], cities.loc[1, \"lon\"]))\n",
    "        results.append({\"method\": f.__name__, \"measurement\": mes, \"value\": getattr(d, mes)})\n",
    "\n",
    "# show as dataframe\n",
    "results_df = pd.DataFrame(results)\n",
    "results_df.pivot_table(index=\"method\", columns=\"measurement\", values=\"value\")"
   ]
  },
  {
   "cell_type": "markdown",
   "metadata": {
    "ExecuteTime": {
     "end_time": "2020-11-26T21:40:38.912805Z",
     "start_time": "2020-11-26T21:40:38.898827Z"
    }
   },
   "source": [
    "`distance.distance` nativelly calls `distance.geodesic` that's why these two calues collapse into one row in the results. "
   ]
  },
  {
   "cell_type": "code",
   "execution_count": null,
   "metadata": {
    "ExecuteTime": {
     "end_time": "2020-11-28T22:05:07.689528Z",
     "start_time": "2020-11-28T22:05:07.615166Z"
    }
   },
   "outputs": [],
   "source": [
    "# the distnace for various ellipsiods\n",
    "for ellipsoid in distance.ELLIPSOIDS:\n",
    "    for mes in [\"kilometers\",\"km\",\"miles\",\"mi\",\"nautical\",\"nm\",\"feet\",\"ft\"]:\n",
    "        d = distance.geodesic((cities.loc[0, \"lat\"], cities.loc[0, \"lon\"]), (cities.loc[1, \"lat\"], cities.loc[1, \"lon\"]), ellipsoid=ellipsoid)\n",
    "        results.append({\"method\": f\"geodesic: {ellipsoid}\", \"measurement\": mes, \"value\": getattr(d, mes)})\n",
    "\n",
    "# show as dataframe\n",
    "results_df = pd.DataFrame(results)\n",
    "results_df.pivot_table(index=\"method\", columns=\"measurement\", values=\"value\")"
   ]
  },
  {
   "cell_type": "markdown",
   "metadata": {},
   "source": [
    "# Driving distance\n",
    "The cities can be quite close on the surface, though natural obstacles like sea or mountain can cause that the driving distance is much longer. "
   ]
  },
  {
   "cell_type": "code",
   "execution_count": null,
   "metadata": {
    "ExecuteTime": {
     "end_time": "2020-11-28T22:05:07.705353Z",
     "start_time": "2020-11-28T22:05:07.691360Z"
    }
   },
   "outputs": [],
   "source": [
    "hest = df[df[\"capital\"].isin([\"Helsinki\",\"Stockholm\"])].reset_index()\n",
    "cities = hest.copy()\n",
    "d = distance.distance((cities.loc[0, \"lat\"], cities.loc[0, \"lon\"]), (cities.loc[1, \"lat\"], cities.loc[1, \"lon\"]))\n",
    "d.km"
   ]
  },
  {
   "cell_type": "markdown",
   "metadata": {
    "ExecuteTime": {
     "end_time": "2020-11-26T21:50:06.840631Z",
     "start_time": "2020-11-26T21:50:06.822678Z"
    }
   },
   "source": [
    "Even though the distance between Helsinky, the capita of Finland and Stockholm in Sweden less than 400km, if you decide to drive it's more than 1750km and 20 hours. Even if you take ferries you will drive almost 500km. Paris is located only 1107km from Rome, but roads connecting these cities have at least 1420km. \n",
    "\n",
    "\n",
    "That's why for many application you want to know the real travel distnace, which no mathematical function can return. You need to call some map service API - e.g. google routes or osrm route service (http://project-osrm.org/docs/v5.5.1/api/#route-service). The documentation says that in order to get the driving distance we need to call this API endoint - `/route/v1/{profile}/{coordinates}?alternatives={true|false}&steps={true|false}&geometries={polyline|polyline6|geojson}&overview={full|simplified|false}&annotations={true|false}` having parameters: \n",
    "\n",
    "* `profile` - car, bike, foot \n",
    "* `coordinates` - lat,lon of the first point; lon, lat of the second point, e.g. 2.333333,48.866667;12.483333,41.900000\n",
    "* `alternative` - whether to return only the first option or more alternatives\n",
    "* `steps` - whether to return route steps - e.g. at the crossroad turn left\n",
    "* `geometries` - how is the route returned, either `polyline` (def`ault), `polyline6` ,  `geojson`\n",
    "* `overview` - how  to return the route - `simplified` (default), `full`,  `false`\n",
    "* `annotations` - if aditional metadata are provided for each point on the route\n",
    "\n",
    "For our purpose, we can run the simplest request, having everything set to false or default. We will simply call: `http://router.project-osrm.org/route/v1/driving/cities.loc[0, \"lon\"],cities.loc[0, \"lat\"];cities.loc[1, \"lon\"],cities.loc[1, \"lat\"]?overview=false`\n",
    "\n",
    "To get the API's response, we will use the python's requests method. "
   ]
  },
  {
   "cell_type": "code",
   "execution_count": null,
   "metadata": {
    "ExecuteTime": {
     "end_time": "2020-11-28T22:05:07.938822Z",
     "start_time": "2020-11-28T22:05:07.707316Z"
    }
   },
   "outputs": [],
   "source": [
    "cities = ropa.copy()\n",
    "r = requests.get(f\"\"\"http://router.project-osrm.org/route/v1/car/{cities.loc[0, \"lon\"]},{cities.loc[0, \"lat\"]};{cities.loc[1, \"lon\"]},{cities.loc[1, \"lat\"]}?overview=false\"\"\")"
   ]
  },
  {
   "cell_type": "markdown",
   "metadata": {},
   "source": [
    "It returns whatever is provided by the API in the `content` parameter."
   ]
  },
  {
   "cell_type": "code",
   "execution_count": null,
   "metadata": {
    "ExecuteTime": {
     "end_time": "2020-11-28T22:05:07.954778Z",
     "start_time": "2020-11-28T22:05:07.940816Z"
    }
   },
   "outputs": [],
   "source": [
    "r.content"
   ]
  },
  {
   "cell_type": "markdown",
   "metadata": {},
   "source": [
    "We can see that it returns a json object, which looks nices, when passed to the python's json library. "
   ]
  },
  {
   "cell_type": "code",
   "execution_count": null,
   "metadata": {
    "ExecuteTime": {
     "end_time": "2020-11-28T22:05:07.969741Z",
     "start_time": "2020-11-28T22:05:07.958770Z"
    }
   },
   "outputs": [],
   "source": [
    "json.loads(r.content)"
   ]
  },
  {
   "cell_type": "markdown",
   "metadata": {},
   "source": [
    "We're mainly interested about the driving `distance` and/or driving `duration`. These parameters are included into the `route` subelement which contains a list of routes. Because we haven't asked for any alternative, this list has only one item. "
   ]
  },
  {
   "cell_type": "code",
   "execution_count": null,
   "metadata": {
    "ExecuteTime": {
     "end_time": "2020-11-28T22:05:07.984709Z",
     "start_time": "2020-11-28T22:05:07.974726Z"
    }
   },
   "outputs": [],
   "source": [
    "route_1 = json.loads(r.content)[\"routes\"][0]\n",
    "route_1[\"distance\"], route_1[\"duration\"]"
   ]
  },
  {
   "cell_type": "markdown",
   "metadata": {
    "ExecuteTime": {
     "end_time": "2020-11-27T18:31:42.373161Z",
     "start_time": "2020-11-27T18:31:42.359903Z"
    }
   },
   "source": [
    "If the resulted numbers look strange, beware that the distnace is in meters and duration in seconds. You can easily check that the values are correct online - https://www.openstreetmap.org/directions?engine=fossgis_osrm_car&route=48.867%2C2.333%3B41.900%2C12.484 (for driving distnace by car from Paris to Rome). \n",
    "\n",
    "Maybe you prefer more human readable format. That can be achieved by passing the received duration as a parameter to `timedelta` function of `datetime` and return the string representation. In case it's more than 1 day (I've added 100000 seconds the Paris-Rome distnace for that purpose), than it's displayed.  "
   ]
  },
  {
   "cell_type": "code",
   "execution_count": null,
   "metadata": {
    "ExecuteTime": {
     "end_time": "2020-11-28T22:05:08.000656Z",
     "start_time": "2020-11-28T22:05:07.987692Z"
    }
   },
   "outputs": [],
   "source": [
    "x = datetime.timedelta(seconds=route_1[\"duration\"]+100000)"
   ]
  },
  {
   "cell_type": "code",
   "execution_count": null,
   "metadata": {
    "ExecuteTime": {
     "end_time": "2020-11-28T22:05:08.031575Z",
     "start_time": "2020-11-28T22:05:08.008635Z"
    }
   },
   "outputs": [],
   "source": [
    "str(x)"
   ]
  },
  {
   "cell_type": "markdown",
   "metadata": {
    "ExecuteTime": {
     "end_time": "2020-11-27T18:42:05.353501Z",
     "start_time": "2020-11-27T18:42:05.341134Z"
    }
   },
   "source": [
    "You can also use pandas, if you specify the type of the `duration` column to be `timedelta64[s]`."
   ]
  },
  {
   "cell_type": "code",
   "execution_count": null,
   "metadata": {
    "ExecuteTime": {
     "end_time": "2020-11-28T22:05:08.063487Z",
     "start_time": "2020-11-28T22:05:08.037559Z"
    }
   },
   "outputs": [],
   "source": [
    "dftime = pd.DataFrame({\"duration\":route_1[\"duration\"]+100000}, index=[0])\n",
    "dftime[\"duration\"] = dftime[\"duration\"].astype(\"timedelta64[s]\")\n",
    "dftime"
   ]
  },
  {
   "cell_type": "markdown",
   "metadata": {
    "ExecuteTime": {
     "end_time": "2020-11-27T18:47:34.278375Z",
     "start_time": "2020-11-27T18:47:34.268290Z"
    }
   },
   "source": [
    "You should use the OSRM project responsibly, because it's there to server everyone. Read the rules of the service https://github.com/Project-OSRM/osrm-backend/wiki/Api-usage-policy. \n",
    "\n",
    "If you are building a business application which needs hundreds or thousands of route requests, opt for a commercial product like google direction service. https://developers.google.com/maps/documentation/directions/overview. Again you use the requests library, specify correct url and get the result. Beware that you need to make an agreement with Google and these requests are paid. You have to prove yourself with valid API key and you are billed according to the service policies. Usually these services offer some free amount of searches, which can be used for your proof of concept. E.g. google offer \\\\$200/month worth of credit, while 1K requests costs \\\\$10. \n",
    "\n",
    "In order to avoid surprises, always restrict your API keys to the purpose you need it for and set up the billing ceiling. "
   ]
  },
  {
   "cell_type": "code",
   "execution_count": null,
   "metadata": {
    "ExecuteTime": {
     "end_time": "2020-11-28T22:05:08.079445Z",
     "start_time": "2020-11-28T22:05:08.069473Z"
    }
   },
   "outputs": [],
   "source": [
    "origin_coor = \",\".join([str(cities.loc[0,\"lat\"]), str(cities.loc[0,\"lon\"])])\n",
    "destination_coor = \",\".join([str(cities.loc[1,\"lat\"]), str(cities.loc[1,\"lon\"])])\n",
    "API_KEY = \"api_key\"\n",
    "url = f\"https://maps.googleapis.com/maps/api/directions/json?origin={origin_coor}&destination={destination_coor}&mode=driving&key={API_KEY}\"\n",
    "\n",
    "# alternatively you can specify the start point (origin) and the destination using the places' names\n",
    "url_alt = f\"https://maps.googleapis.com/maps/api/directions/json?origin=Paris&destination=Rome&mode=driving&key={API_KEY}\"\n",
    "print(url)"
   ]
  },
  {
   "cell_type": "code",
   "execution_count": null,
   "metadata": {
    "ExecuteTime": {
     "end_time": "2020-11-28T22:05:08.607266Z",
     "start_time": "2020-11-28T22:05:08.083440Z"
    }
   },
   "outputs": [],
   "source": [
    "r = requests.get(url_alt)"
   ]
  },
  {
   "cell_type": "markdown",
   "metadata": {},
   "source": [
    "In this case you find the results in the the appropriate keys of the response. "
   ]
  },
  {
   "cell_type": "code",
   "execution_count": null,
   "metadata": {
    "ExecuteTime": {
     "end_time": "2020-11-28T22:05:08.622179Z",
     "start_time": "2020-11-28T22:05:08.609244Z"
    }
   },
   "outputs": [],
   "source": [
    "results = json.loads(r.content)\n",
    "legs = results[\"routes\"][0][\"legs\"]\n",
    "legs[0][\"duration\"], legs[0][\"distance\"]"
   ]
  },
  {
   "cell_type": "markdown",
   "metadata": {},
   "source": [
    "# Distances between multiple cities and optimal route\n",
    "The route doesn't have to be limited to two cities only. Maybe you need to visit several addreses/cities and you're trying to optimize the process. Let's try on an example of exploring all the capitals of the Central Europe. \n",
    "\n",
    "First we will list these capitals. Looking to Wikipedia (https://en.wikipedia.org/wiki/Central_Europe) you will find that Central Europe include 9 countries - Austria, Czech Republic, Germany, Hungary, Liechtenstein, Poland, Slovenia, Slovakia, Switzerland. I've listed their ISO2 codes below. "
   ]
  },
  {
   "cell_type": "code",
   "execution_count": null,
   "metadata": {
    "ExecuteTime": {
     "end_time": "2020-11-28T22:05:08.638137Z",
     "start_time": "2020-11-28T22:05:08.623176Z"
    }
   },
   "outputs": [],
   "source": [
    "ce_countries = [\"AT\",\"CZ\",\"DE\",\"HU\",\"LI\",\"PL\",\"SK\",\"SI\",\"CH\"]"
   ]
  },
  {
   "cell_type": "code",
   "execution_count": null,
   "metadata": {
    "ExecuteTime": {
     "end_time": "2020-11-28T22:05:08.654093Z",
     "start_time": "2020-11-28T22:05:08.640131Z"
    }
   },
   "outputs": [],
   "source": [
    "ce_cities = df[df[\"code\"].isin(ce_countries)].reset_index(drop=True)\n",
    "ce_cities"
   ]
  },
  {
   "cell_type": "markdown",
   "metadata": {},
   "source": [
    "Let's wrap the OSRM distnace service into a function."
   ]
  },
  {
   "cell_type": "code",
   "execution_count": null,
   "metadata": {
    "ExecuteTime": {
     "end_time": "2020-11-28T22:05:08.670052Z",
     "start_time": "2020-11-28T22:05:08.656089Z"
    }
   },
   "outputs": [],
   "source": [
    "def get_distance(point1: dict, point2: dict) -> tuple:\n",
    "    \"\"\"Gets distance between two points en route using http://project-osrm.org/docs/v5.10.0/api/#nearest-service\"\"\"\n",
    "    \n",
    "    url = f\"\"\"http://router.project-osrm.org/route/v1/driving/{point1[\"lon\"]},{point1[\"lat\"]};{point2[\"lon\"]},{point2[\"lat\"]}?overview=false&alternatives=false\"\"\"\n",
    "    r = requests.get(url)\n",
    "    \n",
    "    # get the distance from the returned values\n",
    "    route = json.loads(r.content)[\"routes\"][0]\n",
    "    return (route[\"distance\"], route[\"duration\"])"
   ]
  },
  {
   "cell_type": "code",
   "execution_count": null,
   "metadata": {
    "ExecuteTime": {
     "end_time": "2020-11-28T22:05:08.749878Z",
     "start_time": "2020-11-28T22:05:08.673043Z"
    }
   },
   "outputs": [],
   "source": [
    "# let's try on the first two cities\n",
    "# confirm that it's correct on https://www.openstreetmap.org/directions?engine=fossgis_osrm_car&route=48.208%2C16.372%3B50.087%2C14.421\n",
    "get_distance({\"lat\": 48.200000,\"lon\": 16.366667}, {\"lat\": 50.083333,\"lon\": 14.466667})"
   ]
  },
  {
   "cell_type": "markdown",
   "metadata": {
    "ExecuteTime": {
     "end_time": "2020-11-27T19:22:46.718135Z",
     "start_time": "2020-11-27T19:22:46.709028Z"
    }
   },
   "source": [
    "Now we can run the distnace calculation for all the combinations of the cities. There's \n",
    "\\begin{equation*} \n",
    "{9 \\choose 2} \n",
    "\\end{equation*}\n",
    "of combinations."
   ]
  },
  {
   "cell_type": "code",
   "execution_count": null,
   "metadata": {
    "ExecuteTime": {
     "end_time": "2020-11-28T22:05:08.764805Z",
     "start_time": "2020-11-28T22:05:08.755822Z"
    }
   },
   "outputs": [],
   "source": [
    "# https://stackoverflow.com/questions/464864/how-to-get-all-possible-combinations-of-a-list-s-elements\n",
    "# https://stackoverflow.com/questions/3025162/statistics-combinations-in-python\n",
    "len([c for c in itertools.combinations(list(cities[\"capital\"]),2)])"
   ]
  },
  {
   "cell_type": "code",
   "execution_count": null,
   "metadata": {
    "ExecuteTime": {
     "end_time": "2020-11-28T22:05:08.779756Z",
     "start_time": "2020-11-28T22:05:08.768787Z"
    }
   },
   "outputs": [],
   "source": [
    "# from python 3.8 you can use math.comb to get just the number. \n",
    "# math.comb(9,2)"
   ]
  },
  {
   "cell_type": "markdown",
   "metadata": {
    "ExecuteTime": {
     "end_time": "2020-11-27T19:37:09.133127Z",
     "start_time": "2020-11-27T19:37:09.126150Z"
    }
   },
   "source": [
    "Let's get the distance and duration from OSRM API for all our combinations."
   ]
  },
  {
   "cell_type": "code",
   "execution_count": null,
   "metadata": {
    "ExecuteTime": {
     "end_time": "2020-11-28T22:05:35.576147Z",
     "start_time": "2020-11-28T22:05:08.782756Z"
    }
   },
   "outputs": [],
   "source": [
    "dist_array = []\n",
    "for i , r in ce_cities.iterrows():\n",
    "    point1 = {\"lat\": r[\"lat\"], \"lon\": r[\"lon\"]}\n",
    "    for j, o in ce_cities[ce_cities.index != i].iterrows():\n",
    "        point2 = {\"lat\": o[\"lat\"], \"lon\": o[\"lon\"]}\n",
    "        dist, duration = get_distance(point1, point2)\n",
    "        #dist = geodesic((i_lat, i_lon), (o[\"CapitalLatitude\"], o[\"CapitalLongitude\"])).km\n",
    "        dist_array.append((i, j, duration, dist))"
   ]
  },
  {
   "cell_type": "code",
   "execution_count": null,
   "metadata": {
    "ExecuteTime": {
     "end_time": "2020-11-28T22:05:35.607036Z",
     "start_time": "2020-11-28T22:05:35.583100Z"
    }
   },
   "outputs": [],
   "source": [
    "distances_df = pd.DataFrame(dist_array,columns=[\"origin\",\"destination\",\"duration(s)\",\"distnace(m)\"])\n",
    "distances_df"
   ]
  },
  {
   "cell_type": "code",
   "execution_count": null,
   "metadata": {
    "ExecuteTime": {
     "end_time": "2020-11-28T22:05:35.652943Z",
     "start_time": "2020-11-28T22:05:35.613036Z"
    }
   },
   "outputs": [],
   "source": [
    "distances_df = distances_df.merge(ce_cities[[\"capital\"]], left_on = \"origin\", right_index=True).rename(columns={\"capital\":\"origin_name\"})\n",
    "distances_df = distances_df.merge(ce_cities[[\"capital\"]], left_on = \"destination\", right_index=True).rename(columns={\"capital\":\"destination_name\"})\n",
    "distances_df"
   ]
  },
  {
   "cell_type": "markdown",
   "metadata": {
    "ExecuteTime": {
     "end_time": "2020-11-27T19:53:21.205624Z",
     "start_time": "2020-11-27T19:53:19.301370Z"
    }
   },
   "source": [
    "# Travelling Salesperson Problem\n",
    "To find the optimal route between a list of points based on a parameter (e.g. duration or distance between the places) we can use the Travelling Salesperson Problem (https://en.wikipedia.org/wiki/Travelling_salesman_problem). Travelling Sales person wants to visit all the points with the minimal effort. \n",
    "\n",
    "Python implementation is described in the following article. https://towardsdatascience.com/solving-travelling-salesperson-problems-with-python-5de7e883d847. You can also read the documentation of the mlrose package https://mlrose.readthedocs.io/en/stable/source/tutorial2.html.\n"
   ]
  },
  {
   "cell_type": "code",
   "execution_count": null,
   "metadata": {
    "ExecuteTime": {
     "end_time": "2020-11-28T22:05:35.667872Z",
     "start_time": "2020-11-28T22:05:35.653909Z"
    }
   },
   "outputs": [],
   "source": [
    "# we plan to visit 9 cities\n",
    "length = ce_cities.shape[0]"
   ]
  },
  {
   "cell_type": "markdown",
   "metadata": {},
   "source": [
    "we plan to use the list of distnaces (durations in our case), that's why we initialize with `distances = dist_list` param. E.g. distance between the `place 0` and `place 1` is `13949.0` second --> `(0,1,13949.0)`"
   ]
  },
  {
   "cell_type": "code",
   "execution_count": null,
   "metadata": {
    "ExecuteTime": {
     "end_time": "2020-11-28T22:05:35.699788Z",
     "start_time": "2020-11-28T22:05:35.669868Z"
    }
   },
   "outputs": [],
   "source": [
    "# turn the first three columns of the dataframe into the list of tuples\n",
    "dist_list = list(distances_df[[\"origin\",\"destination\",\"duration(s)\"]].sort_values(by=[\"origin\",\"destination\"]).to_records(index=False))\n",
    "dist_list"
   ]
  },
  {
   "cell_type": "code",
   "execution_count": null,
   "metadata": {
    "ExecuteTime": {
     "end_time": "2020-11-28T22:05:35.715744Z",
     "start_time": "2020-11-28T22:05:35.701782Z"
    }
   },
   "outputs": [],
   "source": [
    "# we plan to use the list of distnaces (durations in our case), that's why we initialize with `distances = dist_list` param.\n",
    "fitness_dists = mlrose.TravellingSales(distances = dist_array)"
   ]
  },
  {
   "cell_type": "code",
   "execution_count": null,
   "metadata": {
    "ExecuteTime": {
     "end_time": "2020-11-28T22:05:35.731702Z",
     "start_time": "2020-11-28T22:05:35.717740Z"
    }
   },
   "outputs": [],
   "source": [
    "problem_fit = mlrose.TSPOpt(length = length, fitness_fn = fitness_dists,\n",
    "                            maximize=False)"
   ]
  },
  {
   "cell_type": "code",
   "execution_count": null,
   "metadata": {
    "ExecuteTime": {
     "end_time": "2020-11-28T22:05:36.287216Z",
     "start_time": "2020-11-28T22:05:35.733696Z"
    }
   },
   "outputs": [],
   "source": [
    "mlrose.genetic_alg(problem_fit, random_state = 2)"
   ]
  },
  {
   "cell_type": "code",
   "execution_count": null,
   "metadata": {
    "ExecuteTime": {
     "end_time": "2020-11-28T22:05:36.795536Z",
     "start_time": "2020-11-28T22:05:36.288123Z"
    }
   },
   "outputs": [],
   "source": [
    "# Solve problem using the genetic algorithm - suboptimal solution\n",
    "best_state, best_fitness = mlrose.genetic_alg(problem_fit, random_state = 2)"
   ]
  },
  {
   "cell_type": "code",
   "execution_count": null,
   "metadata": {
    "ExecuteTime": {
     "end_time": "2020-11-28T22:05:36.810757Z",
     "start_time": "2020-11-28T22:05:36.797331Z"
    }
   },
   "outputs": [],
   "source": [
    "print(f\"The best state found is: {best_state}, taking {best_fitness} ({str(datetime.timedelta(seconds=best_fitness))})\")"
   ]
  },
  {
   "cell_type": "code",
   "execution_count": null,
   "metadata": {
    "ExecuteTime": {
     "end_time": "2020-11-28T22:06:29.554931Z",
     "start_time": "2020-11-28T22:05:36.811707Z"
    }
   },
   "outputs": [],
   "source": [
    "# better but more resource intensive solutions\n",
    "best_state, best_fitness = mlrose.genetic_alg(problem_fit, mutation_prob = 0.2,  max_attempts = 500, random_state = 2)"
   ]
  },
  {
   "cell_type": "code",
   "execution_count": null,
   "metadata": {
    "ExecuteTime": {
     "end_time": "2020-11-28T22:06:29.570917Z",
     "start_time": "2020-11-28T22:06:29.557969Z"
    }
   },
   "outputs": [],
   "source": [
    "print(f\"The best state found is: {best_state}, taking {best_fitness} ({str(datetime.timedelta(seconds=best_fitness))})\")"
   ]
  },
  {
   "cell_type": "markdown",
   "metadata": {},
   "source": [
    "The `best_state` contains the order of the places to visit. Let's map it to our list of cities to see, the order in which we can to visit them."
   ]
  },
  {
   "cell_type": "code",
   "execution_count": null,
   "metadata": {
    "ExecuteTime": {
     "end_time": "2020-11-28T22:06:29.602881Z",
     "start_time": "2020-11-28T22:06:29.576884Z"
    }
   },
   "outputs": [],
   "source": [
    "orders = {city: order for order, city in enumerate(best_state)}\n",
    "orders"
   ]
  },
  {
   "cell_type": "code",
   "execution_count": null,
   "metadata": {
    "ExecuteTime": {
     "end_time": "2020-11-28T22:06:29.649739Z",
     "start_time": "2020-11-28T22:06:29.612784Z"
    }
   },
   "outputs": [],
   "source": [
    "ce_cities[\"order\"] = ce_cities.index.map(orders)\n",
    "ce_cities = ce_cities.sort_values(by=\"order\")\n",
    "ce_cities"
   ]
  },
  {
   "cell_type": "markdown",
   "metadata": {
    "ExecuteTime": {
     "end_time": "2020-11-27T20:52:24.150431Z",
     "start_time": "2020-11-27T20:52:24.139432Z"
    }
   },
   "source": [
    "Let's confirm that the distance is really the `best_fitness`. Based on the order we will add the `next_city` column and specially handle the last city which is followed by the city with order == 0 (or the minimum order)."
   ]
  },
  {
   "cell_type": "code",
   "execution_count": null,
   "metadata": {
    "ExecuteTime": {
     "end_time": "2020-11-28T22:06:29.680656Z",
     "start_time": "2020-11-28T22:06:29.652736Z"
    }
   },
   "outputs": [],
   "source": [
    "ce_cities[\"next_city\"] = ce_cities[\"capital\"].shift(-1)\n",
    "\n",
    "# the last connection is between the last city and the first one\n",
    "ce_cities.loc[ce_cities[\"order\"] == max(ce_cities[\"order\"]), \"next_city\"] = ce_cities.loc[ce_cities[\"order\"] == min(ce_cities[\"order\"]), \"capital\"].values[0]\n",
    "ce_cities"
   ]
  },
  {
   "cell_type": "markdown",
   "metadata": {},
   "source": [
    "Then we join the distances in seconds from `distance_df`"
   ]
  },
  {
   "cell_type": "code",
   "execution_count": null,
   "metadata": {
    "ExecuteTime": {
     "end_time": "2020-11-28T22:06:29.695800Z",
     "start_time": "2020-11-28T22:06:29.681653Z"
    }
   },
   "outputs": [],
   "source": [
    "ordered_ce_cities = ce_cities.merge(distances_df[[\"origin_name\",\"destination_name\",\"duration(s)\"]], left_on=[\"capital\",\"next_city\"], right_on=[\"origin_name\",\"destination_name\"], how=\"left\")"
   ]
  },
  {
   "cell_type": "code",
   "execution_count": null,
   "metadata": {
    "ExecuteTime": {
     "end_time": "2020-11-28T22:06:29.710762Z",
     "start_time": "2020-11-28T22:06:29.696799Z"
    }
   },
   "outputs": [],
   "source": [
    "ordered_ce_cities"
   ]
  },
  {
   "cell_type": "markdown",
   "metadata": {
    "ExecuteTime": {
     "end_time": "2020-11-27T21:07:29.108268Z",
     "start_time": "2020-11-27T21:07:29.095306Z"
    }
   },
   "source": [
    "Let's check that the total of this distance is really, what Travelling Salesman Problem identified as the `best_fitness`"
   ]
  },
  {
   "cell_type": "code",
   "execution_count": null,
   "metadata": {
    "ExecuteTime": {
     "end_time": "2020-11-28T22:06:29.726721Z",
     "start_time": "2020-11-28T22:06:29.712757Z"
    }
   },
   "outputs": [],
   "source": [
    "ordered_ce_cities[\"duration(s)\"].sum()"
   ]
  },
  {
   "cell_type": "markdown",
   "metadata": {
    "ExecuteTime": {
     "end_time": "2020-11-27T21:11:11.391405Z",
     "start_time": "2020-11-27T21:11:11.377409Z"
    }
   },
   "source": [
    "Since the route is a cyclical you can start at any of the capitals. To get the minimal travel time, you should end in the city which is followed by the longest duration. "
   ]
  },
  {
   "cell_type": "code",
   "execution_count": null,
   "metadata": {
    "ExecuteTime": {
     "end_time": "2020-11-28T22:06:29.742713Z",
     "start_time": "2020-11-28T22:06:29.731708Z"
    }
   },
   "outputs": [],
   "source": [
    "ordered_ce_cities[\"duration(s)\"].max()"
   ]
  },
  {
   "cell_type": "code",
   "execution_count": null,
   "metadata": {
    "ExecuteTime": {
     "end_time": "2020-11-28T22:08:58.531709Z",
     "start_time": "2020-11-28T22:08:58.513758Z"
    }
   },
   "outputs": [],
   "source": [
    "ordered_ce_cities.style.highlight_max(color = 'lightgreen', axis = 0, subset=\"duration(s)\")"
   ]
  },
  {
   "cell_type": "markdown",
   "metadata": {},
   "source": [
    "As you can see, in our case, if you can start in Bern and end in Ljublana, the distance would be the smallest."
   ]
  },
  {
   "cell_type": "code",
   "execution_count": null,
   "metadata": {
    "ExecuteTime": {
     "end_time": "2020-11-28T22:08:30.868770Z",
     "start_time": "2020-11-28T22:08:30.858830Z"
    }
   },
   "outputs": [],
   "source": [
    "duration_s = ordered_ce_cities[\"duration(s)\"].sum() - ordered_ce_cities[\"duration(s)\"].max()\n",
    "duration_s, str(datetime.timedelta(seconds=duration_s))"
   ]
  },
  {
   "cell_type": "markdown",
   "metadata": {
    "ExecuteTime": {
     "end_time": "2020-11-27T21:18:52.686379Z",
     "start_time": "2020-11-27T21:18:52.673412Z"
    }
   },
   "source": [
    "# Confirm that this is really the shorted possible route"
   ]
  },
  {
   "cell_type": "code",
   "execution_count": null,
   "metadata": {
    "ExecuteTime": {
     "end_time": "2020-11-28T22:06:29.993967Z",
     "start_time": "2020-11-28T22:06:29.978764Z"
    }
   },
   "outputs": [],
   "source": [
    "l = [0,1,2,3,4,5,6,7,8]"
   ]
  },
  {
   "cell_type": "code",
   "execution_count": null,
   "metadata": {
    "ExecuteTime": {
     "end_time": "2020-11-28T22:10:26.426261Z",
     "start_time": "2020-11-28T22:10:26.410302Z"
    }
   },
   "outputs": [],
   "source": [
    "# There's possible (n-1)!/2 combinations; 1/2 because path 1-2-3 is the same as 3-2-1\n",
    "math.factorial(length)/2"
   ]
  },
  {
   "cell_type": "markdown",
   "metadata": {
    "ExecuteTime": {
     "end_time": "2020-11-28T21:44:36.185177Z",
     "start_time": "2020-11-28T21:44:36.181188Z"
    }
   },
   "source": [
    "Let's generate all the possible paths"
   ]
  },
  {
   "cell_type": "code",
   "execution_count": null,
   "metadata": {
    "ExecuteTime": {
     "end_time": "2020-11-28T22:06:30.071939Z",
     "start_time": "2020-11-28T22:06:30.010174Z"
    }
   },
   "outputs": [],
   "source": [
    "perm = [l for l in itertools.permutations(l, 9)]\n",
    "len(perm)"
   ]
  },
  {
   "cell_type": "code",
   "execution_count": null,
   "metadata": {
    "ExecuteTime": {
     "end_time": "2020-11-28T22:06:30.087911Z",
     "start_time": "2020-11-28T22:06:30.073062Z"
    }
   },
   "outputs": [],
   "source": [
    "perm[:5]"
   ]
  },
  {
   "cell_type": "code",
   "execution_count": null,
   "metadata": {
    "ExecuteTime": {
     "end_time": "2020-11-28T22:06:30.103120Z",
     "start_time": "2020-11-28T22:06:30.088682Z"
    }
   },
   "outputs": [],
   "source": [
    "distances = {(int(d[0]), int(d[1])):d[2] for d in distances_df[[\"origin\",\"destination\",\"duration(s)\"]].values.tolist()}\n",
    "distances[(0,1)]"
   ]
  },
  {
   "cell_type": "code",
   "execution_count": null,
   "metadata": {
    "ExecuteTime": {
     "end_time": "2020-11-28T22:06:30.117938Z",
     "start_time": "2020-11-28T22:06:30.103969Z"
    }
   },
   "outputs": [],
   "source": [
    "# pick the first path\n",
    "path = perm[0]\n",
    "\n",
    "# add th first element to conclude the circular path\n",
    "path = path + (path[0],)\n",
    "\n",
    "# iterate through the path and sum all the distnaces\n",
    "total_path_distance = 0\n",
    "for i in range(len(path)-1):\n",
    "    edge = (path[i], path[i+1])\n",
    "    total_path_distance += distances[edge]\n",
    "    print(edge, distances[edge])\n",
    "print(total_path_distance)\n",
    "\n",
    "# list comprehension\n",
    "sum([distances[(path[i],path[i+1])] for i in range(len(path)-1)])"
   ]
  },
  {
   "cell_type": "code",
   "execution_count": null,
   "metadata": {
    "ExecuteTime": {
     "end_time": "2020-11-28T22:06:31.064417Z",
     "start_time": "2020-11-28T22:06:30.127909Z"
    }
   },
   "outputs": [],
   "source": [
    "mn = np.inf\n",
    "min_paths = []\n",
    "\n",
    "for p in perm:\n",
    "    \n",
    "    # add th first element to conclude the circular path\n",
    "    p = p + (p[0],)\n",
    "    \n",
    "    total_path_distance = sum([distances[(p[i],p[i+1])] for i in range(len(path)-1)])\n",
    "    \n",
    "    if total_path_distance < mn:\n",
    "        mn = total_path_distance\n",
    "        min_paths = [p]\n",
    "    elif total_path_distance == mn:\n",
    "        min_paths.append(p)\n",
    "    else:\n",
    "        pass\n",
    "    \n",
    "print(mn, min_paths)"
   ]
  },
  {
   "cell_type": "code",
   "execution_count": null,
   "metadata": {
    "ExecuteTime": {
     "end_time": "2020-11-28T22:06:31.080062Z",
     "start_time": "2020-11-28T22:06:31.065380Z"
    }
   },
   "outputs": [],
   "source": [
    "def path_to_df(path, cities, distances_df):\n",
    "    orders = {city: order for order, city in enumerate(path[0])}\n",
    "    \n",
    "    cities[\"order\"] = cities.index.map(orders)\n",
    "    cities = cities.sort_values(by=\"order\")\n",
    "    \n",
    "    cities[\"next_city\"] = cities[\"capital\"].shift(-1)\n",
    "\n",
    "    # the last connection is between the last city and the first one\n",
    "    cities.loc[cities[\"order\"] == max(cities[\"order\"]), \"next_city\"] = cities.loc[cities[\"order\"] == min(cities[\"order\"]), \"capital\"].values[0]\n",
    "    \n",
    "    ordered_ce_cities = cities.merge(distances_df[[\"origin_name\",\"destination_name\",\"duration(s)\"]], left_on=[\"capital\",\"next_city\"], right_on=[\"origin_name\",\"destination_name\"], how=\"left\")\n",
    "    \n",
    "    return ordered_ce_cities[\"duration(s)\"].sum(), ordered_ce_cities"
   ]
  },
  {
   "cell_type": "code",
   "execution_count": null,
   "metadata": {
    "ExecuteTime": {
     "end_time": "2020-11-28T22:12:47.699374Z",
     "start_time": "2020-11-28T22:12:47.664468Z"
    }
   },
   "outputs": [],
   "source": [
    "total_duration, path_df = path_to_df(min_paths, ce_cities, distances_df)\n",
    "path_df.style.highlight_max(color = 'lightgreen', axis = 0, subset=\"duration(s)\")"
   ]
  },
  {
   "cell_type": "code",
   "execution_count": null,
   "metadata": {
    "ExecuteTime": {
     "end_time": "2020-11-28T22:09:56.692430Z",
     "start_time": "2020-11-28T22:09:56.682493Z"
    }
   },
   "outputs": [],
   "source": [
    "total_duration"
   ]
  },
  {
   "cell_type": "markdown",
   "metadata": {
    "ExecuteTime": {
     "end_time": "2020-11-28T22:13:29.083262Z",
     "start_time": "2020-11-28T22:13:29.068268Z"
    }
   },
   "source": [
    "Let's shift the order so that the path start in Ljubljana"
   ]
  },
  {
   "cell_type": "code",
   "execution_count": null,
   "metadata": {
    "ExecuteTime": {
     "end_time": "2020-11-28T22:21:37.618056Z",
     "start_time": "2020-11-28T22:21:37.590130Z"
    }
   },
   "outputs": [],
   "source": [
    "filter_cities_before_bern = path_df[\"order\"] < path_df.loc[path_df[\"capital\"]==\"Ljubljana\",\"order\"].values[0]\n",
    "path_df.loc[filter_cities_before_bern, \"order\"] += path_df[\"order\"].max()\n",
    "path_df.sort_values(by=\"order\")"
   ]
  },
  {
   "cell_type": "markdown",
   "metadata": {
    "ExecuteTime": {
     "end_time": "2020-11-28T22:22:00.788177Z",
     "start_time": "2020-11-28T22:22:00.780197Z"
    }
   },
   "source": [
    "Let's now reverse the order, so that we won't go from Ljublana to Vaduz, but vice versa"
   ]
  },
  {
   "cell_type": "code",
   "execution_count": null,
   "metadata": {
    "ExecuteTime": {
     "end_time": "2020-11-28T22:22:03.312805Z",
     "start_time": "2020-11-28T22:22:03.280892Z"
    }
   },
   "outputs": [],
   "source": [
    "path_df_reversed = path_df.sort_values(by=\"order\").reset_index(drop=True)\n",
    "path_df_reversed = path_df_reversed.reindex(index=path_df_reversed.index[::-1])\n",
    "path_df_reversed"
   ]
  },
  {
   "cell_type": "markdown",
   "metadata": {
    "ExecuteTime": {
     "end_time": "2020-11-28T22:23:25.616823Z",
     "start_time": "2020-11-28T22:23:25.597874Z"
    }
   },
   "source": [
    "This path is exactly the same our Travelling Salesman algorithm found. You can see in the `min_paths` variable, that all combinations of these roads are the shortest (considering that we return to the place where we have started)."
   ]
  }
 ],
 "metadata": {
  "kernelspec": {
   "display_name": "mapsenv",
   "language": "python",
   "name": "mapsenv"
  },
  "language_info": {
   "codemirror_mode": {
    "name": "ipython",
    "version": 3
   },
   "file_extension": ".py",
   "mimetype": "text/x-python",
   "name": "python",
   "nbconvert_exporter": "python",
   "pygments_lexer": "ipython3",
   "version": "3.8.5"
  },
  "toc": {
   "base_numbering": 1,
   "nav_menu": {},
   "number_sections": true,
   "sideBar": true,
   "skip_h1_title": false,
   "title_cell": "Table of Contents",
   "title_sidebar": "Contents",
   "toc_cell": false,
   "toc_position": {},
   "toc_section_display": true,
   "toc_window_display": false
  },
  "varInspector": {
   "cols": {
    "lenName": 16,
    "lenType": 16,
    "lenVar": 40
   },
   "kernels_config": {
    "python": {
     "delete_cmd_postfix": "",
     "delete_cmd_prefix": "del ",
     "library": "var_list.py",
     "varRefreshCmd": "print(var_dic_list())"
    },
    "r": {
     "delete_cmd_postfix": ") ",
     "delete_cmd_prefix": "rm(",
     "library": "var_list.r",
     "varRefreshCmd": "cat(var_dic_list()) "
    }
   },
   "types_to_exclude": [
    "module",
    "function",
    "builtin_function_or_method",
    "instance",
    "_Feature"
   ],
   "window_display": false
  }
 },
 "nbformat": 4,
 "nbformat_minor": 2
}
